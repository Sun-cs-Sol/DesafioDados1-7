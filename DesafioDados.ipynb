{
  "nbformat": 4,
  "nbformat_minor": 0,
  "metadata": {
    "colab": {
      "provenance": [],
      "authorship_tag": "ABX9TyMhSqEzcGMIxul/8cAdyER9",
      "include_colab_link": true
    },
    "kernelspec": {
      "name": "python3",
      "display_name": "Python 3"
    },
    "language_info": {
      "name": "python"
    }
  },
  "cells": [
    {
      "cell_type": "markdown",
      "metadata": {
        "id": "view-in-github",
        "colab_type": "text"
      },
      "source": [
        "<a href=\"https://colab.research.google.com/github/Sun-cs-Sol/DesafioDados1-7/blob/main/DesafioDados.ipynb\" target=\"_parent\"><img src=\"https://colab.research.google.com/assets/colab-badge.svg\" alt=\"Open In Colab\"/></a>"
      ]
    },
    {
      "cell_type": "code",
      "execution_count": 2,
      "metadata": {
        "id": "Y12uIasNYOpw"
      },
      "outputs": [],
      "source": [
        "import pandas as pd\n",
        "import numpy as np\n",
        "import matplotlib.pyplot as plt\n",
        "import seaborn as sns\n",
        "import plotly.express as px"
      ]
    },
    {
      "cell_type": "markdown",
      "source": [
        "Base de gastos dos deputados: Cota para Exercício da Atividade Parlamentar dos Senadores (CEAPS).\n",
        "\n",
        "Objetivo: tratar a base e poder tirar insghts reais.\n",
        "\n",
        "\n",
        "Informações sobre a base de dados:\n",
        "\n",
        "- Coluna -> MES: fala sobre o número correspondente ao mês do gasto.\n",
        "- Coluna -> SENADOR: Fala sobre o nome do senador que realizou o gasto.\n",
        "- Coluna -> TIPO_DESPESA: Categoria na qual a despesa está alocada.\n",
        "- Coluna ->  CNPJ_CPF: Cadastro no receberdor do pagamento\n",
        "- Coluna ->  FORNECEDOR: Nome do recebedor do pagamento\n",
        "- Coluna ->  DATA: data da realização do pagamento\n",
        "- Coluna ->  Detalhamento: descrição do pagamento\n",
        "- Coluna ->  VALOR_REEMBOLSADO: Valor gasto no pagamento pelo governo\n",
        "\n",
        "\n",
        "\n",
        "\n"
      ],
      "metadata": {
        "id": "9ZMhmz28Y4u3"
      }
    },
    {
      "cell_type": "code",
      "source": [
        "df = pd.read_csv('/content/despesa_ceaps_2022.csv', header=None)\n",
        "df.drop(1, inplace=True)\n",
        "\n",
        "df.columns = [\"ANO\", \"MES\", \"SENADOR\", \"TIPO_DESPESA\", \"CNPJ_CPF\", \"FORNECEDOR\",\"DOCUMENTO\", \"DATA\", \"DETALHAMENTO\", \"VALOR_REEMBOLSADO\", \"COD_DOCUMENTO\"]"
      ],
      "metadata": {
        "id": "OOG2RK3IFExC"
      },
      "execution_count": 5,
      "outputs": []
    },
    {
      "cell_type": "code",
      "source": [
        "df.info()"
      ],
      "metadata": {
        "colab": {
          "base_uri": "https://localhost:8080/"
        },
        "id": "-SY95fxkGFfr",
        "outputId": "5c961283-b0aa-4c86-f02b-d24f1881218f"
      },
      "execution_count": 6,
      "outputs": [
        {
          "output_type": "stream",
          "name": "stdout",
          "text": [
            "<class 'pandas.core.frame.DataFrame'>\n",
            "Index: 16806 entries, 0 to 16806\n",
            "Data columns (total 11 columns):\n",
            " #   Column             Non-Null Count  Dtype \n",
            "---  ------             --------------  ----- \n",
            " 0   ANO                16806 non-null  object\n",
            " 1   MES                16806 non-null  object\n",
            " 2   SENADOR            16805 non-null  object\n",
            " 3   TIPO_DESPESA       16805 non-null  object\n",
            " 4   CNPJ_CPF           16805 non-null  object\n",
            " 5   FORNECEDOR         16805 non-null  object\n",
            " 6   DOCUMENTO          15871 non-null  object\n",
            " 7   DATA               16805 non-null  object\n",
            " 8   DETALHAMENTO       9062 non-null   object\n",
            " 9   VALOR_REEMBOLSADO  16805 non-null  object\n",
            " 10  COD_DOCUMENTO      16805 non-null  object\n",
            "dtypes: object(11)\n",
            "memory usage: 1.5+ MB\n"
          ]
        }
      ]
    },
    {
      "cell_type": "markdown",
      "source": [
        "Olhando as quantidade de linhas não nulas pro coluna pode-se observar que as colunas 6 (DOCUMENTO) e 8 (DETALHAMENTO) são as unicas que contém valores nulos intercalados nos dados reais. As colunas não estou agregando informações fundamentais dentro da tabela então criar uma copia dela e vamos excluir elas para manipular os dados mais relevantes.\n"
      ],
      "metadata": {
        "id": "Tht0uqJyCq3L"
      }
    },
    {
      "cell_type": "code",
      "source": [
        "df1 = df.copy()\n",
        "df1 = df1.drop(columns=[\"DOCUMENTO\", \"DETALHAMENTO\"])\n",
        "df1.info()"
      ],
      "metadata": {
        "colab": {
          "base_uri": "https://localhost:8080/"
        },
        "id": "_j2A8THtGHTG",
        "outputId": "48ff1c46-a545-4570-9b0f-6d84f77620e8"
      },
      "execution_count": 7,
      "outputs": [
        {
          "output_type": "stream",
          "name": "stdout",
          "text": [
            "<class 'pandas.core.frame.DataFrame'>\n",
            "Index: 16806 entries, 0 to 16806\n",
            "Data columns (total 9 columns):\n",
            " #   Column             Non-Null Count  Dtype \n",
            "---  ------             --------------  ----- \n",
            " 0   ANO                16806 non-null  object\n",
            " 1   MES                16806 non-null  object\n",
            " 2   SENADOR            16805 non-null  object\n",
            " 3   TIPO_DESPESA       16805 non-null  object\n",
            " 4   CNPJ_CPF           16805 non-null  object\n",
            " 5   FORNECEDOR         16805 non-null  object\n",
            " 6   DATA               16805 non-null  object\n",
            " 7   VALOR_REEMBOLSADO  16805 non-null  object\n",
            " 8   COD_DOCUMENTO      16805 non-null  object\n",
            "dtypes: object(9)\n",
            "memory usage: 1.3+ MB\n"
          ]
        }
      ]
    },
    {
      "cell_type": "markdown",
      "source": [
        "Agora vamos padronizar os valores da coluna VALOR_REEMBOLSADO"
      ],
      "metadata": {
        "id": "g9vceBqmI_cK"
      }
    },
    {
      "cell_type": "code",
      "source": [
        "df[\"VALOR_REEMBOLSADO\"] = df[\"VALOR_REEMBOLSADO\"].astype(str).str.replace(\",\", \".\").astype(float)\n",
        "print(df[\"VALOR_REEMBOLSADO\"])"
      ],
      "metadata": {
        "colab": {
          "base_uri": "https://localhost:8080/"
        },
        "id": "zrH5CRfjH3CD",
        "outputId": "40303e8d-29cc-4bce-ea69-e7baf3d820ce"
      },
      "execution_count": 9,
      "outputs": [
        {
          "output_type": "stream",
          "name": "stdout",
          "text": [
            "0            NaN\n",
            "2        6000.00\n",
            "3        1500.00\n",
            "4        6000.00\n",
            "5        1000.00\n",
            "          ...   \n",
            "16802    2893.04\n",
            "16803    1180.19\n",
            "16804    2671.90\n",
            "16805    1334.31\n",
            "16806    2250.72\n",
            "Name: VALOR_REEMBOLSADO, Length: 16806, dtype: float64\n"
          ]
        }
      ]
    },
    {
      "cell_type": "markdown",
      "source": [
        "Base limpa! agora podemos começar a manipular dos dados para extrair insights."
      ],
      "metadata": {
        "id": "0midLeWBJOWx"
      }
    },
    {
      "cell_type": "markdown",
      "source": [
        "Vamos descobrir de quantos deputados estamos falando."
      ],
      "metadata": {
        "id": "WOM31Z27Gnol"
      }
    },
    {
      "cell_type": "code",
      "source": [
        "senadores = df[\"SENADOR\"].unique()\n",
        "valor = df[\"SENADOR\"].count()\n",
        "print(senadores)\n",
        "print(f\"\\nQuantidade de senadores:   {len(senadores)}\")\n",
        "print(f\"Valore médio por senador: {valor/len(senadores):.2f} pedidos\")"
      ],
      "metadata": {
        "colab": {
          "base_uri": "https://localhost:8080/"
        },
        "id": "mtrqSdNvFosv",
        "outputId": "b12c007f-9282-4e73-fb22-da2d92959fb3"
      },
      "execution_count": null,
      "outputs": [
        {
          "output_type": "stream",
          "name": "stdout",
          "text": [
            "[nan 'ACIR GURGACZ' 'ALESSANDRO VIEIRA' 'ALEXANDRE SILVEIRA' 'ALVARO DIAS'\n",
            " 'ANGELO CORONEL' 'ANTONIO ANASTASIA' 'CARLOS FÁVARO' 'CARLOS PORTINHO'\n",
            " 'CARLOS VIANA' 'CHICO RODRIGUES' 'CHIQUINHO FEITOSA' 'CID GOMES'\n",
            " 'CONFÚCIO MOURA' 'DANIELLA RIBEIRO' 'DÁRIO BERGER' 'DAVI ALCOLUMBRE'\n",
            " 'DRA. EUDÓCIA' 'EDUARDO BRAGA' 'EDUARDO GIRÃO' 'EDUARDO GOMES'\n",
            " 'EDUARDO VELLOSO' 'ELIANE NOGUEIRA' 'ELIZIANE GAMA' 'ELMANO FÉRRER'\n",
            " 'ESPERIDIÃO AMIN' 'FABIANO CONTARATO' 'FABIO GARCIA'\n",
            " 'FERNANDO BEZERRA COELHO' 'FERNANDO COLLOR' 'FERNANDO DUEIRE'\n",
            " 'FLÁVIO ARNS' 'FLÁVIO BOLSONARO' 'GIORDANO' 'GUARACY SILVEIRA'\n",
            " 'HUMBERTO COSTA' 'IRAJÁ' 'IVETE DA SILVEIRA' 'IZALCI LUCAS'\n",
            " 'JADER BARBALHO' 'JAQUES WAGNER' 'JARBAS VASCONCELOS' 'JAYME CAMPOS'\n",
            " 'JEAN PAUL PRATES' 'JORGINHO MELLO' 'JOSÉ ANÍBAL' 'JOSÉ SERRA'\n",
            " 'JULIO VENTURA' 'KÁTIA ABREU' 'LASIER MARTINS' 'LEILA BARROS'\n",
            " 'LUCAS BARRETO' 'LUIS CARLOS HEINZE' 'LUIZ CARLOS DO CARMO'\n",
            " 'LUIZ PASTORE' 'MAILZA GOMES' 'MARA GABRILLI' 'MARCELO CASTRO'\n",
            " 'MARCIO BITTAR' 'MARCOS DO VAL' 'MARCOS ROGÉRIO' 'MARGARETH BUZETTI'\n",
            " 'MARIA DAS VITÓRIAS' 'MARIA DO CARMO ALVES'\n",
            " 'MARIA ELIZA DE AGUIAR E SILVA' 'MECIAS DE JESUS' 'NELSINHO TRAD'\n",
            " 'NILDA GONDIM' 'OGARI PACHECO' 'OMAR AZIZ' 'ORIOVISTO GUIMARÃES'\n",
            " 'OTTO ALENCAR' 'PAULO PAIM' 'PAULO ROCHA' 'PLÍNIO VALÉRIO'\n",
            " 'RAFAEL TENÓRIO' 'RANDOLFE RODRIGUES' 'RENAN CALHEIROS' 'ROBERTH BRINGEL'\n",
            " 'ROBERTO ROCHA' 'RODRIGO CUNHA' 'RODRIGO PACHECO' 'ROGÉRIO CARVALHO'\n",
            " 'ROMÁRIO' 'ROSE DE FREITAS' 'SAMUEL ARAUJO' 'SÉRGIO PETECÃO'\n",
            " 'SIMONE TEBET' 'SORAYA THRONICKE' 'STYVENSON VALENTIM' 'TASSO JEREISSATI'\n",
            " 'TELMÁRIO MOTA' 'VANDERLAN CARDOSO' 'VENEZIANO VITAL DO RÊGO'\n",
            " 'WELLINGTON FAGUNDES' 'WEVERTON ROCHA' 'ZENAIDE MAIA' 'ZEQUINHA MARINHO']\n",
            "\n",
            "Quantidade de senadores:   98\n",
            "Valore médio por senador: 171.48 pedidos\n"
          ]
        }
      ]
    },
    {
      "cell_type": "markdown",
      "source": [
        "Agora sabemos que as 16805 requisições de reembolso foram feitas por 98 senadores e a média de requisições por senador é de 171 aproximadamente."
      ],
      "metadata": {
        "id": "BXBtHyQyOB4t"
      }
    }
  ]
}