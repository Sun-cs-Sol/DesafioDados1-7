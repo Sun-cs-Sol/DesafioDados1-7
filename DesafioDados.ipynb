{
  "nbformat": 4,
  "nbformat_minor": 0,
  "metadata": {
    "colab": {
      "provenance": [],
      "authorship_tag": "ABX9TyMXVxaj4RMjBgWiI65P0rSi",
      "include_colab_link": true
    },
    "kernelspec": {
      "name": "python3",
      "display_name": "Python 3"
    },
    "language_info": {
      "name": "python"
    }
  },
  "cells": [
    {
      "cell_type": "markdown",
      "metadata": {
        "id": "view-in-github",
        "colab_type": "text"
      },
      "source": [
        "<a href=\"https://colab.research.google.com/github/Sun-cs-Sol/DesafioDados1-7/blob/main/DesafioDados.ipynb\" target=\"_parent\"><img src=\"https://colab.research.google.com/assets/colab-badge.svg\" alt=\"Open In Colab\"/></a>"
      ]
    },
    {
      "cell_type": "code",
      "execution_count": 2,
      "metadata": {
        "id": "Y12uIasNYOpw"
      },
      "outputs": [],
      "source": [
        "import pandas as pd\n",
        "import numpy as np\n",
        "import matplotlib.pyplot as plt\n",
        "import seaborn as sns\n",
        "import plotly.express as px"
      ]
    },
    {
      "cell_type": "markdown",
      "source": [
        "Base de gastos dos deputados: Cota para Exercício da Atividade Parlamentar dos Senadores (CEAPS).\n",
        "\n",
        "Objetivo: tratar a base e poder tirar insghts reais.\n",
        "\n",
        "\n",
        "Informações sobre a base de dados:\n",
        "\n",
        "- Coluna -> MES: fala sobre o número correspondente ao mês do gasto.\n",
        "- Coluna -> SENADOR: Fala sobre o nome do senador que realizou o gasto.\n",
        "- Coluna -> TIPO_DESPESA: Categoria na qual a despesa está alocada.\n",
        "- Coluna ->  CNPJ_CPF: Cadastro no receberdor do pagamento\n",
        "- Coluna ->  FORNECEDOR: Nome do recebedor do pagamento\n",
        "- Coluna ->  DATA: data da realização do pagamento\n",
        "- Coluna ->  Detalhamento: descrição do pagamento\n",
        "- Coluna ->  VALOR_REEMBOLSADO: Valor gasto no pagamento pelo governo\n",
        "\n",
        "\n",
        "\n",
        "\n"
      ],
      "metadata": {
        "id": "9ZMhmz28Y4u3"
      }
    },
    {
      "cell_type": "code",
      "source": [
        "df = pd.read_csv('/content/despesa_ceaps_2022.csv', header=None)\n",
        "df.drop(1, inplace=True)\n",
        "\n",
        "df.columns = [\"ANO\", \"MES\", \"SENADOR\", \"TIPO_DESPESA\", \"CNPJ_CPF\", \"FORNECEDOR\",\"DOCUMENTO\", \"DATA\", \"DETALHAMENTO\", \"VALOR_REEMBOLSADO\", \"COD_DOCUMENTO\"]"
      ],
      "metadata": {
        "id": "OOG2RK3IFExC"
      },
      "execution_count": 5,
      "outputs": []
    },
    {
      "cell_type": "code",
      "source": [
        "df.info()"
      ],
      "metadata": {
        "colab": {
          "base_uri": "https://localhost:8080/"
        },
        "id": "-SY95fxkGFfr",
        "outputId": "5c961283-b0aa-4c86-f02b-d24f1881218f"
      },
      "execution_count": 6,
      "outputs": [
        {
          "output_type": "stream",
          "name": "stdout",
          "text": [
            "<class 'pandas.core.frame.DataFrame'>\n",
            "Index: 16806 entries, 0 to 16806\n",
            "Data columns (total 11 columns):\n",
            " #   Column             Non-Null Count  Dtype \n",
            "---  ------             --------------  ----- \n",
            " 0   ANO                16806 non-null  object\n",
            " 1   MES                16806 non-null  object\n",
            " 2   SENADOR            16805 non-null  object\n",
            " 3   TIPO_DESPESA       16805 non-null  object\n",
            " 4   CNPJ_CPF           16805 non-null  object\n",
            " 5   FORNECEDOR         16805 non-null  object\n",
            " 6   DOCUMENTO          15871 non-null  object\n",
            " 7   DATA               16805 non-null  object\n",
            " 8   DETALHAMENTO       9062 non-null   object\n",
            " 9   VALOR_REEMBOLSADO  16805 non-null  object\n",
            " 10  COD_DOCUMENTO      16805 non-null  object\n",
            "dtypes: object(11)\n",
            "memory usage: 1.5+ MB\n"
          ]
        }
      ]
    },
    {
      "cell_type": "markdown",
      "source": [
        "Olhando as quantidade de linhas não nulas pro coluna pode-se observar que as colunas 6 (DOCUMENTO) e 8 (DETALHAMENTO) são as unicas que contém valores nulos intercalados nos dados reais. As colunas não estou agregando informações fundamentais dentro da tabela então criar uma copia dela e vamos excluir elas para manipular os dados mais relevantes.\n"
      ],
      "metadata": {
        "id": "Tht0uqJyCq3L"
      }
    },
    {
      "cell_type": "code",
      "source": [
        "df1 = df.copy()\n",
        "df1 = df1.drop(columns=[\"DOCUMENTO\", \"DETALHAMENTO\"])\n",
        "df1.info()"
      ],
      "metadata": {
        "colab": {
          "base_uri": "https://localhost:8080/"
        },
        "id": "_j2A8THtGHTG",
        "outputId": "48ff1c46-a545-4570-9b0f-6d84f77620e8"
      },
      "execution_count": 7,
      "outputs": [
        {
          "output_type": "stream",
          "name": "stdout",
          "text": [
            "<class 'pandas.core.frame.DataFrame'>\n",
            "Index: 16806 entries, 0 to 16806\n",
            "Data columns (total 9 columns):\n",
            " #   Column             Non-Null Count  Dtype \n",
            "---  ------             --------------  ----- \n",
            " 0   ANO                16806 non-null  object\n",
            " 1   MES                16806 non-null  object\n",
            " 2   SENADOR            16805 non-null  object\n",
            " 3   TIPO_DESPESA       16805 non-null  object\n",
            " 4   CNPJ_CPF           16805 non-null  object\n",
            " 5   FORNECEDOR         16805 non-null  object\n",
            " 6   DATA               16805 non-null  object\n",
            " 7   VALOR_REEMBOLSADO  16805 non-null  object\n",
            " 8   COD_DOCUMENTO      16805 non-null  object\n",
            "dtypes: object(9)\n",
            "memory usage: 1.3+ MB\n"
          ]
        }
      ]
    },
    {
      "cell_type": "markdown",
      "source": [
        "Agora vamos padronizar os valores da coluna VALOR_REEMBOLSADO"
      ],
      "metadata": {
        "id": "g9vceBqmI_cK"
      }
    },
    {
      "cell_type": "code",
      "source": [
        "df1[\"VALOR_REEMBOLSADO\"] = df1[\"VALOR_REEMBOLSADO\"].astype(str).str.replace(\",\", \".\").astype(float)\n",
        "print(df1[\"VALOR_REEMBOLSADO\"])"
      ],
      "metadata": {
        "colab": {
          "base_uri": "https://localhost:8080/"
        },
        "id": "zrH5CRfjH3CD",
        "outputId": "e1cf1aeb-cd4c-4bf6-e966-713cb6fbc0c8"
      },
      "execution_count": 10,
      "outputs": [
        {
          "output_type": "stream",
          "name": "stdout",
          "text": [
            "0            NaN\n",
            "2        6000.00\n",
            "3        1500.00\n",
            "4        6000.00\n",
            "5        1000.00\n",
            "          ...   \n",
            "16802    2893.04\n",
            "16803    1180.19\n",
            "16804    2671.90\n",
            "16805    1334.31\n",
            "16806    2250.72\n",
            "Name: VALOR_REEMBOLSADO, Length: 16806, dtype: float64\n"
          ]
        }
      ]
    },
    {
      "cell_type": "markdown",
      "source": [
        "Podemos ver também que a coluna FORNECEDOR está fora de padrão, vamos alterar isso.\n"
      ],
      "metadata": {
        "id": "SE0uYoWSOlAE"
      }
    },
    {
      "cell_type": "code",
      "source": [
        "df1[\"FORNECEDOR\"] = df1[\"FORNECEDOR\"].astype(str).str.strip().str.upper()\n",
        "print(df[\"FORNECEDOR\"])"
      ],
      "metadata": {
        "colab": {
          "base_uri": "https://localhost:8080/"
        },
        "id": "CeJLS75cOsIV",
        "outputId": "e0ae0c94-4cd0-4178-ff88-8291003a8feb"
      },
      "execution_count": 13,
      "outputs": [
        {
          "output_type": "stream",
          "name": "stdout",
          "text": [
            "0                                      NaN\n",
            "2            GILBERTO PISELO DO NASCIMENTO\n",
            "3                            INFORMANAHORA\n",
            "4          LINHA PURPURA FOTO E VIDEO LTDA\n",
            "5        ROBERTO GUTIERREZ DA ROCHA M.E.I.\n",
            "                       ...                \n",
            "16802                        Exceller Tour\n",
            "16803                        Exceller Tour\n",
            "16804                        Exceller Tour\n",
            "16805                        Exceller Tour\n",
            "16806                        Exceller Tour\n",
            "Name: FORNECEDOR, Length: 16806, dtype: object\n"
          ]
        }
      ]
    },
    {
      "cell_type": "markdown",
      "source": [
        "Base limpa! agora podemos começar a manipular dos dados para extrair insights."
      ],
      "metadata": {
        "id": "0midLeWBJOWx"
      }
    }
  ]
}